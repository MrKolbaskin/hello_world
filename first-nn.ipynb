{
 "cells": [
  {
   "cell_type": "markdown",
   "metadata": {},
   "source": [
    "### Fashion MNIST"
   ]
  },
  {
   "cell_type": "code",
   "execution_count": 1,
   "metadata": {},
   "outputs": [],
   "source": [
    "from tensorflow.keras.datasets import fashion_mnist\n",
    "from tensorflow.keras.models import Sequential\n",
    "from tensorflow.keras.layers import Dense\n",
    "from tensorflow.keras import utils"
   ]
  },
  {
   "cell_type": "code",
   "execution_count": 3,
   "metadata": {},
   "outputs": [
    {
     "name": "stdout",
     "output_type": "stream",
     "text": [
      "Downloading data from https://storage.googleapis.com/tensorflow/tf-keras-datasets/train-labels-idx1-ubyte.gz\n",
      "32768/29515 [=================================] - 0s 1us/step\n",
      "Downloading data from https://storage.googleapis.com/tensorflow/tf-keras-datasets/train-images-idx3-ubyte.gz\n",
      "26427392/26421880 [==============================] - 3s 0us/step\n",
      "Downloading data from https://storage.googleapis.com/tensorflow/tf-keras-datasets/t10k-labels-idx1-ubyte.gz\n",
      "8192/5148 [===============================================] - 0s 0us/step\n",
      "Downloading data from https://storage.googleapis.com/tensorflow/tf-keras-datasets/t10k-images-idx3-ubyte.gz\n",
      "4423680/4422102 [==============================] - 1s 0us/step\n"
     ]
    }
   ],
   "source": [
    "(x_train, y_train), (x_test, y_test) = fashion_mnist.load_data()"
   ]
  },
  {
   "cell_type": "code",
   "execution_count": 17,
   "metadata": {},
   "outputs": [],
   "source": [
    "x_train = x_train.reshape(60000, 784)\n",
    "x_train = x_train / 255"
   ]
  },
  {
   "cell_type": "code",
   "execution_count": 19,
   "metadata": {},
   "outputs": [],
   "source": [
    "y_train = utils.to_categorical(y_train, 10)"
   ]
  },
  {
   "cell_type": "code",
   "execution_count": 21,
   "metadata": {},
   "outputs": [
    {
     "name": "stdout",
     "output_type": "stream",
     "text": [
      "Model: \"sequential_1\"\n",
      "_________________________________________________________________\n",
      "Layer (type)                 Output Shape              Param #   \n",
      "=================================================================\n",
      "dense_2 (Dense)              (None, 800)               628000    \n",
      "_________________________________________________________________\n",
      "dense_3 (Dense)              (None, 10)                8010      \n",
      "=================================================================\n",
      "Total params: 636,010\n",
      "Trainable params: 636,010\n",
      "Non-trainable params: 0\n",
      "_________________________________________________________________\n",
      "None\n"
     ]
    }
   ],
   "source": [
    "model = Sequential()\n",
    "\n",
    "model.add(Dense(800, input_dim=784, activation='relu'))\n",
    "model.add(Dense(10, activation='softmax'))\n",
    "\n",
    "model.compile(loss='categorical_crossentropy', optimizer='SGD', metrics=['accuracy'])\n",
    "\n",
    "print(model.summary())"
   ]
  },
  {
   "cell_type": "code",
   "execution_count": 22,
   "metadata": {},
   "outputs": [
    {
     "name": "stdout",
     "output_type": "stream",
     "text": [
      "Epoch 1/100\n",
      "300/300 [==============================] - 3s 11ms/step - loss: 1.1109 - accuracy: 0.6815\n",
      "Epoch 2/100\n",
      "300/300 [==============================] - 3s 11ms/step - loss: 0.7165 - accuracy: 0.7743\n",
      "Epoch 3/100\n",
      "300/300 [==============================] - 3s 11ms/step - loss: 0.6294 - accuracy: 0.7988\n",
      "Epoch 4/100\n",
      "300/300 [==============================] - 4s 13ms/step - loss: 0.5818 - accuracy: 0.8114\n",
      "Epoch 5/100\n",
      "300/300 [==============================] - 3s 11ms/step - loss: 0.5506 - accuracy: 0.8197\n",
      "Epoch 6/100\n",
      "300/300 [==============================] - 3s 11ms/step - loss: 0.5280 - accuracy: 0.8260\n",
      "Epoch 7/100\n",
      "300/300 [==============================] - 3s 11ms/step - loss: 0.5109 - accuracy: 0.8305\n",
      "Epoch 8/100\n",
      "300/300 [==============================] - 3s 11ms/step - loss: 0.4966 - accuracy: 0.8341\n",
      "Epoch 9/100\n",
      "300/300 [==============================] - 3s 11ms/step - loss: 0.4854 - accuracy: 0.8374\n",
      "Epoch 10/100\n",
      "300/300 [==============================] - 3s 11ms/step - loss: 0.4758 - accuracy: 0.8401\n",
      "Epoch 11/100\n",
      "300/300 [==============================] - 3s 8ms/step - loss: 0.4676 - accuracy: 0.8421\n",
      "Epoch 12/100\n",
      "300/300 [==============================] - 3s 8ms/step - loss: 0.4600 - accuracy: 0.8442\n",
      "Epoch 13/100\n",
      "300/300 [==============================] - 3s 8ms/step - loss: 0.4537 - accuracy: 0.8470\n",
      "Epoch 14/100\n",
      "300/300 [==============================] - 3s 8ms/step - loss: 0.4478 - accuracy: 0.8482\n",
      "Epoch 15/100\n",
      "300/300 [==============================] - 3s 8ms/step - loss: 0.4425 - accuracy: 0.8495\n",
      "Epoch 16/100\n",
      "300/300 [==============================] - 3s 8ms/step - loss: 0.4375 - accuracy: 0.8511\n",
      "Epoch 17/100\n",
      "300/300 [==============================] - 3s 8ms/step - loss: 0.4329 - accuracy: 0.8534\n",
      "Epoch 18/100\n",
      "300/300 [==============================] - 3s 8ms/step - loss: 0.4289 - accuracy: 0.8546\n",
      "Epoch 19/100\n",
      "300/300 [==============================] - 3s 8ms/step - loss: 0.4249 - accuracy: 0.8551\n",
      "Epoch 20/100\n",
      "300/300 [==============================] - 3s 8ms/step - loss: 0.4212 - accuracy: 0.8569\n",
      "Epoch 21/100\n",
      "300/300 [==============================] - 3s 8ms/step - loss: 0.4181 - accuracy: 0.8571\n",
      "Epoch 22/100\n",
      "300/300 [==============================] - 3s 8ms/step - loss: 0.4145 - accuracy: 0.8583\n",
      "Epoch 23/100\n",
      "300/300 [==============================] - 3s 8ms/step - loss: 0.4113 - accuracy: 0.8594\n",
      "Epoch 24/100\n",
      "300/300 [==============================] - 3s 8ms/step - loss: 0.4084 - accuracy: 0.8612\n",
      "Epoch 25/100\n",
      "300/300 [==============================] - 3s 8ms/step - loss: 0.4053 - accuracy: 0.8619\n",
      "Epoch 26/100\n",
      "300/300 [==============================] - 3s 8ms/step - loss: 0.4025 - accuracy: 0.8626\n",
      "Epoch 27/100\n",
      "300/300 [==============================] - 3s 8ms/step - loss: 0.4000 - accuracy: 0.8635\n",
      "Epoch 28/100\n",
      "300/300 [==============================] - 2s 8ms/step - loss: 0.3977 - accuracy: 0.8640\n",
      "Epoch 29/100\n",
      "300/300 [==============================] - 3s 8ms/step - loss: 0.3952 - accuracy: 0.8655\n",
      "Epoch 30/100\n",
      "300/300 [==============================] - 3s 8ms/step - loss: 0.3926 - accuracy: 0.8654\n",
      "Epoch 31/100\n",
      "300/300 [==============================] - 3s 9ms/step - loss: 0.3904 - accuracy: 0.8673\n",
      "Epoch 32/100\n",
      "300/300 [==============================] - 3s 9ms/step - loss: 0.3883 - accuracy: 0.8669\n",
      "Epoch 33/100\n",
      "300/300 [==============================] - 3s 8ms/step - loss: 0.3862 - accuracy: 0.8680\n",
      "Epoch 34/100\n",
      "300/300 [==============================] - 3s 8ms/step - loss: 0.3838 - accuracy: 0.8693\n",
      "Epoch 35/100\n",
      "300/300 [==============================] - 3s 9ms/step - loss: 0.3818 - accuracy: 0.8692\n",
      "Epoch 36/100\n",
      "300/300 [==============================] - 3s 9ms/step - loss: 0.3799 - accuracy: 0.8704\n",
      "Epoch 37/100\n",
      "300/300 [==============================] - 3s 8ms/step - loss: 0.3781 - accuracy: 0.8698\n",
      "Epoch 38/100\n",
      "300/300 [==============================] - 3s 8ms/step - loss: 0.3763 - accuracy: 0.8711\n",
      "Epoch 39/100\n",
      "300/300 [==============================] - 3s 9ms/step - loss: 0.3745 - accuracy: 0.8710\n",
      "Epoch 40/100\n",
      "300/300 [==============================] - 3s 9ms/step - loss: 0.3726 - accuracy: 0.8722\n",
      "Epoch 41/100\n",
      "300/300 [==============================] - 3s 9ms/step - loss: 0.3708 - accuracy: 0.8723\n",
      "Epoch 42/100\n",
      "300/300 [==============================] - 3s 12ms/step - loss: 0.3691 - accuracy: 0.8732\n",
      "Epoch 43/100\n",
      "300/300 [==============================] - 3s 11ms/step - loss: 0.3678 - accuracy: 0.8729\n",
      "Epoch 44/100\n",
      "300/300 [==============================] - 3s 11ms/step - loss: 0.3660 - accuracy: 0.8741\n",
      "Epoch 45/100\n",
      "300/300 [==============================] - 4s 12ms/step - loss: 0.3646 - accuracy: 0.8746\n",
      "Epoch 46/100\n",
      "300/300 [==============================] - 3s 11ms/step - loss: 0.3631 - accuracy: 0.8746\n",
      "Epoch 47/100\n",
      "300/300 [==============================] - 3s 11ms/step - loss: 0.3612 - accuracy: 0.8757\n",
      "Epoch 48/100\n",
      "300/300 [==============================] - 3s 11ms/step - loss: 0.3596 - accuracy: 0.8766\n",
      "Epoch 49/100\n",
      "300/300 [==============================] - 3s 11ms/step - loss: 0.3583 - accuracy: 0.8771\n",
      "Epoch 50/100\n",
      "300/300 [==============================] - 3s 11ms/step - loss: 0.3569 - accuracy: 0.8771\n",
      "Epoch 51/100\n",
      "300/300 [==============================] - 3s 10ms/step - loss: 0.3554 - accuracy: 0.8778\n",
      "Epoch 52/100\n",
      "300/300 [==============================] - 3s 9ms/step - loss: 0.3542 - accuracy: 0.8778\n",
      "Epoch 53/100\n",
      "300/300 [==============================] - 3s 10ms/step - loss: 0.3528 - accuracy: 0.8785\n",
      "Epoch 54/100\n",
      "300/300 [==============================] - 3s 9ms/step - loss: 0.3516 - accuracy: 0.8792\n",
      "Epoch 55/100\n",
      "300/300 [==============================] - 3s 9ms/step - loss: 0.3501 - accuracy: 0.8791\n",
      "Epoch 56/100\n",
      "300/300 [==============================] - 3s 9ms/step - loss: 0.3490 - accuracy: 0.8803\n",
      "Epoch 57/100\n",
      "300/300 [==============================] - 3s 8ms/step - loss: 0.3477 - accuracy: 0.8799\n",
      "Epoch 58/100\n",
      "300/300 [==============================] - 3s 8ms/step - loss: 0.3464 - accuracy: 0.8806\n",
      "Epoch 59/100\n",
      "300/300 [==============================] - 3s 8ms/step - loss: 0.3452 - accuracy: 0.8811\n",
      "Epoch 60/100\n",
      "300/300 [==============================] - 3s 8ms/step - loss: 0.3441 - accuracy: 0.8809\n",
      "Epoch 61/100\n",
      "300/300 [==============================] - 3s 8ms/step - loss: 0.3427 - accuracy: 0.8820\n",
      "Epoch 62/100\n",
      "300/300 [==============================] - 3s 8ms/step - loss: 0.3417 - accuracy: 0.8820\n",
      "Epoch 63/100\n",
      "300/300 [==============================] - 3s 8ms/step - loss: 0.3406 - accuracy: 0.8825\n",
      "Epoch 64/100\n",
      "300/300 [==============================] - 3s 9ms/step - loss: 0.3392 - accuracy: 0.8826\n",
      "Epoch 65/100\n",
      "300/300 [==============================] - 3s 9ms/step - loss: 0.3381 - accuracy: 0.8831\n",
      "Epoch 66/100\n",
      "300/300 [==============================] - 3s 8ms/step - loss: 0.3367 - accuracy: 0.8835\n",
      "Epoch 67/100\n",
      "300/300 [==============================] - 3s 8ms/step - loss: 0.3360 - accuracy: 0.8837\n",
      "Epoch 68/100\n",
      "300/300 [==============================] - 3s 8ms/step - loss: 0.3347 - accuracy: 0.8845\n",
      "Epoch 69/100\n",
      "300/300 [==============================] - 3s 8ms/step - loss: 0.3339 - accuracy: 0.8841\n",
      "Epoch 70/100\n",
      "300/300 [==============================] - 3s 8ms/step - loss: 0.3330 - accuracy: 0.8849\n",
      "Epoch 71/100\n",
      "300/300 [==============================] - 2s 8ms/step - loss: 0.3319 - accuracy: 0.8857\n",
      "Epoch 72/100\n",
      "300/300 [==============================] - 3s 8ms/step - loss: 0.3309 - accuracy: 0.8853\n",
      "Epoch 73/100\n",
      "300/300 [==============================] - 2s 8ms/step - loss: 0.3298 - accuracy: 0.8851\n",
      "Epoch 74/100\n",
      "300/300 [==============================] - 3s 8ms/step - loss: 0.3288 - accuracy: 0.8863\n",
      "Epoch 75/100\n",
      "300/300 [==============================] - 3s 8ms/step - loss: 0.3272 - accuracy: 0.8870\n",
      "Epoch 76/100\n",
      "300/300 [==============================] - 3s 8ms/step - loss: 0.3265 - accuracy: 0.8869\n",
      "Epoch 77/100\n",
      "300/300 [==============================] - 3s 8ms/step - loss: 0.3257 - accuracy: 0.8868\n",
      "Epoch 78/100\n",
      "300/300 [==============================] - 3s 8ms/step - loss: 0.3243 - accuracy: 0.8875\n",
      "Epoch 79/100\n",
      "300/300 [==============================] - 3s 8ms/step - loss: 0.3236 - accuracy: 0.8876\n",
      "Epoch 80/100\n",
      "300/300 [==============================] - 3s 8ms/step - loss: 0.3229 - accuracy: 0.8876\n",
      "Epoch 81/100\n",
      "300/300 [==============================] - 3s 8ms/step - loss: 0.3217 - accuracy: 0.8877\n",
      "Epoch 82/100\n",
      "300/300 [==============================] - 3s 8ms/step - loss: 0.3208 - accuracy: 0.8885\n",
      "Epoch 83/100\n",
      "300/300 [==============================] - 3s 8ms/step - loss: 0.3199 - accuracy: 0.8887\n",
      "Epoch 84/100\n",
      "300/300 [==============================] - 3s 8ms/step - loss: 0.3192 - accuracy: 0.8888\n",
      "Epoch 85/100\n",
      "300/300 [==============================] - 2s 8ms/step - loss: 0.3183 - accuracy: 0.8894\n",
      "Epoch 86/100\n",
      "300/300 [==============================] - 3s 8ms/step - loss: 0.3172 - accuracy: 0.8898\n",
      "Epoch 87/100\n",
      "300/300 [==============================] - 3s 9ms/step - loss: 0.3161 - accuracy: 0.8901\n",
      "Epoch 88/100\n",
      "300/300 [==============================] - 3s 9ms/step - loss: 0.3156 - accuracy: 0.8907\n",
      "Epoch 89/100\n",
      "300/300 [==============================] - 4s 13ms/step - loss: 0.3146 - accuracy: 0.8909\n",
      "Epoch 90/100\n",
      "300/300 [==============================] - 4s 12ms/step - loss: 0.3137 - accuracy: 0.8906\n",
      "Epoch 91/100\n",
      "300/300 [==============================] - 3s 9ms/step - loss: 0.3126 - accuracy: 0.8916\n",
      "Epoch 92/100\n",
      "300/300 [==============================] - 3s 8ms/step - loss: 0.3121 - accuracy: 0.8910\n",
      "Epoch 93/100\n",
      "300/300 [==============================] - 3s 8ms/step - loss: 0.3112 - accuracy: 0.8916\n",
      "Epoch 94/100\n",
      "300/300 [==============================] - 3s 8ms/step - loss: 0.3104 - accuracy: 0.8922\n",
      "Epoch 95/100\n",
      "300/300 [==============================] - 3s 8ms/step - loss: 0.3094 - accuracy: 0.8928\n",
      "Epoch 96/100\n",
      "300/300 [==============================] - 3s 8ms/step - loss: 0.3087 - accuracy: 0.8930\n",
      "Epoch 97/100\n",
      "300/300 [==============================] - 3s 9ms/step - loss: 0.3082 - accuracy: 0.8926\n",
      "Epoch 98/100\n",
      "300/300 [==============================] - 3s 8ms/step - loss: 0.3069 - accuracy: 0.8929\n",
      "Epoch 99/100\n",
      "300/300 [==============================] - 3s 8ms/step - loss: 0.3064 - accuracy: 0.8925\n",
      "Epoch 100/100\n",
      "300/300 [==============================] - 3s 8ms/step - loss: 0.3055 - accuracy: 0.8942\n"
     ]
    },
    {
     "data": {
      "text/plain": [
       "<tensorflow.python.keras.callbacks.History at 0x7f7a6cb82400>"
      ]
     },
     "execution_count": 22,
     "metadata": {},
     "output_type": "execute_result"
    }
   ],
   "source": [
    "model.fit(x_train, y_train, batch_size=200, epochs=100, verbose=1)"
   ]
  },
  {
   "cell_type": "markdown",
   "metadata": {},
   "source": [
    "### MNIST"
   ]
  },
  {
   "cell_type": "code",
   "execution_count": 2,
   "metadata": {},
   "outputs": [],
   "source": [
    "from tensorflow.keras.datasets import mnist\n",
    "from tensorflow.keras.models import Sequential\n",
    "from tensorflow.keras.layers import Dense\n",
    "from tensorflow.keras import utils\n",
    "import matplotlib.pyplot as plt"
   ]
  },
  {
   "cell_type": "code",
   "execution_count": 3,
   "metadata": {},
   "outputs": [],
   "source": [
    "(x_train, y_train), (x_test, y_test) = mnist.load_data()"
   ]
  },
  {
   "cell_type": "code",
   "execution_count": 14,
   "metadata": {},
   "outputs": [],
   "source": [
    "x_train = x_train.reshape(60000, 784)\n",
    "x_train = x_train / 255"
   ]
  },
  {
   "cell_type": "code",
   "execution_count": 15,
   "metadata": {},
   "outputs": [],
   "source": [
    "y_train = utils.to_categorical(y_train, 10)"
   ]
  },
  {
   "cell_type": "code",
   "execution_count": 16,
   "metadata": {},
   "outputs": [
    {
     "name": "stdout",
     "output_type": "stream",
     "text": [
      "Model: \"sequential\"\n",
      "_________________________________________________________________\n",
      "Layer (type)                 Output Shape              Param #   \n",
      "=================================================================\n",
      "dense (Dense)                (None, 800)               628000    \n",
      "_________________________________________________________________\n",
      "dense_1 (Dense)              (None, 10)                8010      \n",
      "=================================================================\n",
      "Total params: 636,010\n",
      "Trainable params: 636,010\n",
      "Non-trainable params: 0\n",
      "_________________________________________________________________\n",
      "None\n"
     ]
    }
   ],
   "source": [
    "model = Sequential()\n",
    "\n",
    "model.add(Dense(800, input_dim=784, activation='relu'))\n",
    "model.add(Dense(10, activation='softmax'))\n",
    "\n",
    "model.compile(loss='categorical_crossentropy', optimizer='SGD', metrics=['accuracy'])\n",
    "\n",
    "print(model.summary())"
   ]
  },
  {
   "cell_type": "code",
   "execution_count": 17,
   "metadata": {},
   "outputs": [
    {
     "name": "stdout",
     "output_type": "stream",
     "text": [
      "Epoch 1/100\n",
      "300/300 [==============================] - 4s 14ms/step - loss: 1.2992 - accuracy: 0.7215\n",
      "Epoch 2/100\n",
      "300/300 [==============================] - 4s 14ms/step - loss: 0.6366 - accuracy: 0.8590\n",
      "Epoch 3/100\n",
      "300/300 [==============================] - 4s 13ms/step - loss: 0.4930 - accuracy: 0.8785\n",
      "Epoch 4/100\n",
      "300/300 [==============================] - 3s 11ms/step - loss: 0.4295 - accuracy: 0.8894\n",
      "Epoch 5/100\n",
      "300/300 [==============================] - 3s 11ms/step - loss: 0.3922 - accuracy: 0.8963\n",
      "Epoch 6/100\n",
      "300/300 [==============================] - 4s 12ms/step - loss: 0.3671 - accuracy: 0.9012\n",
      "Epoch 7/100\n",
      "300/300 [==============================] - 4s 14ms/step - loss: 0.3484 - accuracy: 0.9054\n",
      "Epoch 8/100\n",
      "300/300 [==============================] - 4s 13ms/step - loss: 0.3336 - accuracy: 0.9094\n",
      "Epoch 9/100\n",
      "300/300 [==============================] - 4s 13ms/step - loss: 0.3214 - accuracy: 0.9121\n",
      "Epoch 10/100\n",
      "300/300 [==============================] - 4s 13ms/step - loss: 0.3110 - accuracy: 0.9148\n",
      "Epoch 11/100\n",
      "300/300 [==============================] - 4s 14ms/step - loss: 0.3018 - accuracy: 0.9172\n",
      "Epoch 12/100\n",
      "300/300 [==============================] - 5s 16ms/step - loss: 0.2938 - accuracy: 0.9185\n",
      "Epoch 13/100\n",
      "300/300 [==============================] - 5s 16ms/step - loss: 0.2865 - accuracy: 0.9212\n",
      "Epoch 14/100\n",
      "300/300 [==============================] - 5s 15ms/step - loss: 0.2798 - accuracy: 0.9231\n",
      "Epoch 15/100\n",
      "300/300 [==============================] - 5s 15ms/step - loss: 0.2735 - accuracy: 0.9241\n",
      "Epoch 16/100\n",
      "300/300 [==============================] - 4s 12ms/step - loss: 0.2678 - accuracy: 0.9260\n",
      "Epoch 17/100\n",
      "300/300 [==============================] - 4s 12ms/step - loss: 0.2624 - accuracy: 0.9272\n",
      "Epoch 18/100\n",
      "300/300 [==============================] - 4s 14ms/step - loss: 0.2571 - accuracy: 0.9290\n",
      "Epoch 19/100\n",
      "300/300 [==============================] - 4s 13ms/step - loss: 0.2523 - accuracy: 0.9304\n",
      "Epoch 20/100\n",
      "300/300 [==============================] - 4s 13ms/step - loss: 0.2477 - accuracy: 0.9315\n",
      "Epoch 21/100\n",
      "300/300 [==============================] - 4s 12ms/step - loss: 0.2431 - accuracy: 0.9330\n",
      "Epoch 22/100\n",
      "300/300 [==============================] - 4s 13ms/step - loss: 0.2389 - accuracy: 0.9342\n",
      "Epoch 23/100\n",
      "300/300 [==============================] - 4s 13ms/step - loss: 0.2347 - accuracy: 0.9354\n",
      "Epoch 24/100\n",
      "300/300 [==============================] - 4s 12ms/step - loss: 0.2308 - accuracy: 0.9363\n",
      "Epoch 25/100\n",
      "300/300 [==============================] - 4s 14ms/step - loss: 0.2271 - accuracy: 0.9373\n",
      "Epoch 26/100\n",
      "300/300 [==============================] - 4s 12ms/step - loss: 0.2233 - accuracy: 0.9383\n",
      "Epoch 27/100\n",
      "300/300 [==============================] - 4s 12ms/step - loss: 0.2198 - accuracy: 0.9392\n",
      "Epoch 28/100\n",
      "300/300 [==============================] - 4s 12ms/step - loss: 0.2163 - accuracy: 0.9404\n",
      "Epoch 29/100\n",
      "300/300 [==============================] - 4s 12ms/step - loss: 0.2132 - accuracy: 0.9413\n",
      "Epoch 30/100\n",
      "300/300 [==============================] - 4s 14ms/step - loss: 0.2099 - accuracy: 0.9421\n",
      "Epoch 31/100\n",
      "300/300 [==============================] - 4s 14ms/step - loss: 0.2068 - accuracy: 0.9431\n",
      "Epoch 32/100\n",
      "300/300 [==============================] - 4s 13ms/step - loss: 0.2038 - accuracy: 0.9438\n",
      "Epoch 33/100\n",
      "300/300 [==============================] - 5s 15ms/step - loss: 0.2008 - accuracy: 0.9449\n",
      "Epoch 34/100\n",
      "300/300 [==============================] - 4s 14ms/step - loss: 0.1980 - accuracy: 0.9457\n",
      "Epoch 35/100\n",
      "300/300 [==============================] - 4s 13ms/step - loss: 0.1952 - accuracy: 0.9464\n",
      "Epoch 36/100\n",
      "300/300 [==============================] - 4s 12ms/step - loss: 0.1925 - accuracy: 0.9471\n",
      "Epoch 37/100\n",
      "300/300 [==============================] - 3s 11ms/step - loss: 0.1899 - accuracy: 0.9475\n",
      "Epoch 38/100\n",
      "300/300 [==============================] - 3s 11ms/step - loss: 0.1873 - accuracy: 0.9484\n",
      "Epoch 39/100\n",
      "300/300 [==============================] - 4s 12ms/step - loss: 0.1850 - accuracy: 0.9492\n",
      "Epoch 40/100\n",
      "300/300 [==============================] - 4s 13ms/step - loss: 0.1825 - accuracy: 0.9498\n",
      "Epoch 41/100\n",
      "300/300 [==============================] - 4s 12ms/step - loss: 0.1801 - accuracy: 0.9505\n",
      "Epoch 42/100\n",
      "300/300 [==============================] - 4s 13ms/step - loss: 0.1778 - accuracy: 0.9508\n",
      "Epoch 43/100\n",
      "300/300 [==============================] - 4s 12ms/step - loss: 0.1756 - accuracy: 0.9519\n",
      "Epoch 44/100\n",
      "300/300 [==============================] - 4s 12ms/step - loss: 0.1735 - accuracy: 0.9522\n",
      "Epoch 45/100\n",
      "300/300 [==============================] - 4s 12ms/step - loss: 0.1712 - accuracy: 0.9532\n",
      "Epoch 46/100\n",
      "300/300 [==============================] - 4s 14ms/step - loss: 0.1693 - accuracy: 0.9532\n",
      "Epoch 47/100\n",
      "300/300 [==============================] - 4s 15ms/step - loss: 0.1673 - accuracy: 0.9540\n",
      "Epoch 48/100\n",
      "300/300 [==============================] - 5s 16ms/step - loss: 0.1652 - accuracy: 0.9545\n",
      "Epoch 49/100\n",
      "300/300 [==============================] - 5s 15ms/step - loss: 0.1633 - accuracy: 0.9550\n",
      "Epoch 50/100\n",
      "300/300 [==============================] - 5s 17ms/step - loss: 0.1614 - accuracy: 0.9556\n",
      "Epoch 51/100\n",
      "300/300 [==============================] - 4s 14ms/step - loss: 0.1596 - accuracy: 0.9562\n",
      "Epoch 52/100\n",
      "300/300 [==============================] - 4s 12ms/step - loss: 0.1577 - accuracy: 0.9566\n",
      "Epoch 53/100\n",
      "300/300 [==============================] - 4s 13ms/step - loss: 0.1560 - accuracy: 0.9569\n",
      "Epoch 54/100\n",
      "300/300 [==============================] - 4s 12ms/step - loss: 0.1543 - accuracy: 0.9575\n",
      "Epoch 55/100\n",
      "300/300 [==============================] - 4s 12ms/step - loss: 0.1527 - accuracy: 0.9579\n",
      "Epoch 56/100\n",
      "300/300 [==============================] - 4s 14ms/step - loss: 0.1510 - accuracy: 0.9584\n",
      "Epoch 57/100\n",
      "300/300 [==============================] - 4s 14ms/step - loss: 0.1494 - accuracy: 0.9586\n",
      "Epoch 58/100\n",
      "300/300 [==============================] - 4s 13ms/step - loss: 0.1478 - accuracy: 0.9592\n",
      "Epoch 59/100\n",
      "300/300 [==============================] - 4s 13ms/step - loss: 0.1463 - accuracy: 0.9599\n",
      "Epoch 60/100\n",
      "300/300 [==============================] - 4s 13ms/step - loss: 0.1448 - accuracy: 0.9603\n",
      "Epoch 61/100\n",
      "300/300 [==============================] - 4s 13ms/step - loss: 0.1433 - accuracy: 0.9609\n",
      "Epoch 62/100\n",
      "300/300 [==============================] - 4s 13ms/step - loss: 0.1418 - accuracy: 0.9613\n",
      "Epoch 63/100\n",
      "300/300 [==============================] - 4s 13ms/step - loss: 0.1404 - accuracy: 0.9617\n",
      "Epoch 64/100\n",
      "300/300 [==============================] - 4s 13ms/step - loss: 0.1390 - accuracy: 0.9622\n",
      "Epoch 65/100\n",
      "300/300 [==============================] - 4s 13ms/step - loss: 0.1376 - accuracy: 0.9626\n",
      "Epoch 66/100\n",
      "300/300 [==============================] - 4s 13ms/step - loss: 0.1363 - accuracy: 0.9631\n",
      "Epoch 67/100\n",
      "300/300 [==============================] - 5s 16ms/step - loss: 0.1350 - accuracy: 0.9637\n",
      "Epoch 68/100\n",
      "300/300 [==============================] - 4s 13ms/step - loss: 0.1337 - accuracy: 0.9638\n",
      "Epoch 69/100\n",
      "300/300 [==============================] - 4s 13ms/step - loss: 0.1324 - accuracy: 0.9643\n",
      "Epoch 70/100\n",
      "300/300 [==============================] - 4s 13ms/step - loss: 0.1311 - accuracy: 0.9645\n",
      "Epoch 71/100\n",
      "300/300 [==============================] - 4s 13ms/step - loss: 0.1299 - accuracy: 0.9649\n",
      "Epoch 72/100\n",
      "300/300 [==============================] - 4s 13ms/step - loss: 0.1287 - accuracy: 0.9654\n",
      "Epoch 73/100\n",
      "300/300 [==============================] - 4s 13ms/step - loss: 0.1275 - accuracy: 0.9656\n",
      "Epoch 74/100\n",
      "300/300 [==============================] - 4s 13ms/step - loss: 0.1263 - accuracy: 0.9659\n",
      "Epoch 75/100\n",
      "300/300 [==============================] - 4s 13ms/step - loss: 0.1253 - accuracy: 0.9663\n",
      "Epoch 76/100\n",
      "300/300 [==============================] - 4s 13ms/step - loss: 0.1241 - accuracy: 0.9665\n",
      "Epoch 77/100\n",
      "300/300 [==============================] - 4s 13ms/step - loss: 0.1230 - accuracy: 0.9668\n",
      "Epoch 78/100\n",
      "300/300 [==============================] - 4s 13ms/step - loss: 0.1219 - accuracy: 0.9674\n",
      "Epoch 79/100\n",
      "300/300 [==============================] - 4s 13ms/step - loss: 0.1209 - accuracy: 0.9673\n",
      "Epoch 80/100\n",
      "300/300 [==============================] - 4s 12ms/step - loss: 0.1198 - accuracy: 0.9677\n",
      "Epoch 81/100\n",
      "300/300 [==============================] - 4s 13ms/step - loss: 0.1187 - accuracy: 0.9680\n",
      "Epoch 82/100\n",
      "300/300 [==============================] - 4s 12ms/step - loss: 0.1177 - accuracy: 0.9683\n",
      "Epoch 83/100\n",
      "300/300 [==============================] - 4s 14ms/step - loss: 0.1167 - accuracy: 0.9686\n",
      "Epoch 84/100\n",
      "300/300 [==============================] - 4s 13ms/step - loss: 0.1158 - accuracy: 0.9688\n",
      "Epoch 85/100\n",
      "300/300 [==============================] - 4s 13ms/step - loss: 0.1148 - accuracy: 0.9693\n",
      "Epoch 86/100\n",
      "300/300 [==============================] - 4s 13ms/step - loss: 0.1138 - accuracy: 0.9694\n",
      "Epoch 87/100\n",
      "300/300 [==============================] - 4s 13ms/step - loss: 0.1129 - accuracy: 0.9696\n",
      "Epoch 88/100\n",
      "300/300 [==============================] - 4s 13ms/step - loss: 0.1120 - accuracy: 0.9699\n",
      "Epoch 89/100\n",
      "300/300 [==============================] - 4s 13ms/step - loss: 0.1111 - accuracy: 0.9701\n",
      "Epoch 90/100\n",
      "300/300 [==============================] - 4s 13ms/step - loss: 0.1102 - accuracy: 0.9704\n",
      "Epoch 91/100\n",
      "300/300 [==============================] - 4s 13ms/step - loss: 0.1093 - accuracy: 0.9706\n",
      "Epoch 92/100\n",
      "300/300 [==============================] - 4s 13ms/step - loss: 0.1083 - accuracy: 0.9708\n",
      "Epoch 93/100\n",
      "300/300 [==============================] - 4s 13ms/step - loss: 0.1076 - accuracy: 0.9714\n",
      "Epoch 94/100\n",
      "300/300 [==============================] - 4s 13ms/step - loss: 0.1067 - accuracy: 0.9714\n",
      "Epoch 95/100\n",
      "300/300 [==============================] - 4s 13ms/step - loss: 0.1059 - accuracy: 0.9718\n",
      "Epoch 96/100\n",
      "300/300 [==============================] - 4s 13ms/step - loss: 0.1051 - accuracy: 0.9720\n",
      "Epoch 97/100\n",
      "300/300 [==============================] - 4s 14ms/step - loss: 0.1043 - accuracy: 0.9722\n",
      "Epoch 98/100\n",
      "300/300 [==============================] - 4s 13ms/step - loss: 0.1034 - accuracy: 0.9725\n",
      "Epoch 99/100\n",
      "300/300 [==============================] - 4s 13ms/step - loss: 0.1027 - accuracy: 0.9729\n",
      "Epoch 100/100\n",
      "300/300 [==============================] - 4s 13ms/step - loss: 0.1019 - accuracy: 0.9733\n"
     ]
    },
    {
     "data": {
      "text/plain": [
       "<tensorflow.python.keras.callbacks.History at 0x7f51d3b9b280>"
      ]
     },
     "execution_count": 17,
     "metadata": {},
     "output_type": "execute_result"
    }
   ],
   "source": [
    "model.fit(x_train, y_train, batch_size=200, epochs=100, verbose=1)"
   ]
  },
  {
   "cell_type": "code",
   "execution_count": 19,
   "metadata": {},
   "outputs": [
    {
     "name": "stdout",
     "output_type": "stream",
     "text": [
      "INFO:tensorflow:Assets written to: model_mnist/assets\n"
     ]
    }
   ],
   "source": [
    "model.save('model_mnist')"
   ]
  },
  {
   "cell_type": "code",
   "execution_count": 33,
   "metadata": {},
   "outputs": [
    {
     "data": {
      "text/plain": [
       "7"
      ]
     },
     "execution_count": 33,
     "metadata": {},
     "output_type": "execute_result"
    }
   ],
   "source": [
    "model.predict(x_test[0:1].reshape(1, -1) / 255).argmax()"
   ]
  },
  {
   "cell_type": "code",
   "execution_count": 4,
   "metadata": {},
   "outputs": [
    {
     "data": {
      "text/plain": [
       "<matplotlib.image.AxesImage at 0x7f27a5aad340>"
      ]
     },
     "execution_count": 4,
     "metadata": {},
     "output_type": "execute_result"
    },
    {
     "data": {
      "image/png": "[encoded data removed]",
      "text/plain": [
       "<Figure size 432x288 with 1 Axes>"
      ]
     },
     "metadata": {
      "needs_background": "dark"
     },
     "output_type": "display_data"
    }
   ],
   "source": [
    "plt.imshow(x_test[0], cmap='gray')"
   ]
  },
  {
   "cell_type": "code",
   "execution_count": 5,
   "metadata": {},
   "outputs": [],
   "source": [
    "import matplotlib.image as mpimg\n",
    "img=mpimg.imread('eight.png')"
   ]
  },
  {
   "cell_type": "code",
   "execution_count": 52,
   "metadata": {},
   "outputs": [],
   "source": [
    "import cv2"
   ]
  },
  {
   "cell_type": "code",
   "execution_count": 12,
   "metadata": {},
   "outputs": [],
   "source": [
    "import cv2\n",
    "import numpy as np\n",
    "\n",
    "img = cv2.imread()\n",
    "res = cv2.resize(img[:, :, 0], dsize=(28, 28), interpolation=cv2.INTER_CUBIC)"
   ]
  },
  {
   "cell_type": "code",
   "execution_count": 14,
   "metadata": {},
   "outputs": [],
   "source": [
    "from tensorflow import keras\n",
    "\n",
    "model = keras.models.load_model('model_mnist/')"
   ]
  },
  {
   "cell_type": "code",
   "execution_count": 20,
   "metadata": {},
   "outputs": [
    {
     "data": {
      "text/plain": [
       "(1, 784)"
      ]
     },
     "execution_count": 20,
     "metadata": {},
     "output_type": "execute_result"
    }
   ],
   "source": [
    "res.reshape(1, -1).shape"
   ]
  },
  {
   "cell_type": "code",
   "execution_count": 37,
   "metadata": {},
   "outputs": [
    {
     "data": {
      "text/plain": [
       "0.967"
      ]
     },
     "execution_count": 37,
     "metadata": {},
     "output_type": "execute_result"
    }
   ],
   "source": [
    "from tensorflow import metrics\n",
    "\n",
    "metric = metrics.Accuracy()\n",
    "metric(model.predict(x_test.reshape(-1, 784) / 255.0).argmax(axis=1), y_test).numpy()"
   ]
  }
 ],
 "metadata": {
  "kernelspec": {
   "display_name": "Python 3",
   "language": "python",
   "name": "python3"
  },
  "language_info": {
   "codemirror_mode": {
    "name": "ipython",
    "version": 3
   },
   "file_extension": ".py",
   "mimetype": "text/x-python",
   "name": "python",
   "nbconvert_exporter": "python",
   "pygments_lexer": "ipython3",
   "version": "3.8.5"
  }
 },
 "nbformat": 4,
 "nbformat_minor": 4
}
